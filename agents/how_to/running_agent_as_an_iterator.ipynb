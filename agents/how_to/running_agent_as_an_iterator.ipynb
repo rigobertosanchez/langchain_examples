{
 "cells": [
  {
   "cell_type": "markdown",
   "metadata": {},
   "source": [
    "# Running Agent as an Iterator (Ejecutar agente como iterador)\n",
    "---\n",
    "\n",
    "Para demostrar la funcionalidad `AgentExecutorIterator`, configuraremos un problema en el que un Agente debe:\n",
    "\n",
    "- Recuperar tres números primos de una herramienta.\n",
    "- Multiplícalos juntos.\n",
    "\n",
    "En este simple problema podemos demostrar cómo agregar algo de lógica para verificar los pasos intermedios verificando si sus salidas son primas."
   ]
  },
  {
   "cell_type": "code",
   "execution_count": 1,
   "metadata": {},
   "outputs": [
    {
     "data": {
      "text/plain": [
       "True"
      ]
     },
     "execution_count": 1,
     "metadata": {},
     "output_type": "execute_result"
    }
   ],
   "source": [
    "import os\n",
    "from dotenv import load_dotenv, find_dotenv\n",
    "from langchain.agents import AgentExecutor, initialize_agent, AgentType\n",
    "from langchain.schema import AgentFinish\n",
    "from langchain.agents.tools import Tool\n",
    "from langchain.chains import LLMMathChain\n",
    "from langchain.chat_models import ChatOpenAI\n",
    "from pydantic import BaseModel, Field\n",
    "\n",
    "load_dotenv(find_dotenv())"
   ]
  },
  {
   "cell_type": "code",
   "execution_count": 2,
   "metadata": {},
   "outputs": [],
   "source": [
    "# Para este ejemplo se necesita usar GPT-4, GPT-3.5 no lo entiende, por mucho que insistas\n",
    "llm = ChatOpenAI(\n",
    "    temperature=0, # Configuramos el modelo mas deterministico\n",
    "    model=\"gpt-4\", # Aqui especificamos el modelo\n",
    ")\n",
    "\n",
    "llm_math_chain = LLMMathChain.from_llm(\n",
    "    llm=llm, \n",
    "    verbose=True\n",
    ")"
   ]
  },
  {
   "cell_type": "markdown",
   "metadata": {},
   "source": [
    "Definir herramientas (tools) que proporcionen:\n",
    "\n",
    "- El `n` numero primo (usando un pequeño subconjunto para este ejemplo)\n",
    "- El `LLMMatchChain` para actuar como calculadora"
   ]
  },
  {
   "cell_type": "code",
   "execution_count": 3,
   "metadata": {},
   "outputs": [],
   "source": [
    "primes = {998: 7901, 999: 7907, 1000: 7919}\n",
    "\n",
    "\n",
    "class CalculatorInput(BaseModel):\n",
    "    question: str = Field()\n",
    "\n",
    "\n",
    "class PrimeInput(BaseModel):\n",
    "    n: int = Field()\n",
    "\n",
    "def is_prime(n: int) -> bool:\n",
    "    if n <= 1 or (n % 2 == 0 and n > 2):\n",
    "        return False\n",
    "    for i in range(3, int(n**0.5) + 1, 2):\n",
    "        if n % i == 0:\n",
    "            return False\n",
    "    return True\n",
    "\n",
    "\n",
    "def get_prime(n: int, primes: dict = primes) -> str:\n",
    "    return str(primes.get(int(n)))\n",
    "\n",
    "\n",
    "async def aget_prime(n: int, primes: dict = primes) -> str:\n",
    "    return str(primes.get(int(n)))\n",
    "\n",
    "\n",
    "tools = [\n",
    "    Tool(\n",
    "        name=\"GetPrime\",\n",
    "        func=get_prime,\n",
    "        description=\"A tool that returns the `n`th prime number\",\n",
    "        args_schema=PrimeInput,\n",
    "        coroutine=aget_prime,\n",
    "    ),\n",
    "    Tool.from_function(\n",
    "        func=llm_math_chain.run,\n",
    "        name=\"Calculator\",\n",
    "        description=\"Useful for when you need to compute mathematical expressions\",\n",
    "        args_schema=CalculatorInput,\n",
    "        coroutine=llm_math_chain.arun,\n",
    "    ),\n",
    "]"
   ]
  },
  {
   "cell_type": "markdown",
   "metadata": {},
   "source": [
    "Aqui construiremos el Agente, usaremos el tipo de agente predeterminado"
   ]
  },
  {
   "cell_type": "code",
   "execution_count": 4,
   "metadata": {},
   "outputs": [],
   "source": [
    "agent = initialize_agent(\n",
    "    tools,\n",
    "    llm,\n",
    "    agent=AgentType.ZERO_SHOT_REACT_DESCRIPTION,\n",
    "    verbose=True,\n",
    ")"
   ]
  },
  {
   "cell_type": "markdown",
   "metadata": {},
   "source": [
    "En la construccion del agente usaremos el tipo `ZERO_SHOT_REACT_DESCRIPTION` este tipo de agente que viene en Langchain usa el metodo ReAct (Reasonisns and Acting) el prompt es pequeño y consiso, no contiene muchos ejemplos (de ahi el ZERO_SHOT)"
   ]
  },
  {
   "cell_type": "code",
   "execution_count": 5,
   "metadata": {},
   "outputs": [
    {
     "name": "stdout",
     "output_type": "stream",
     "text": [
      "Answer the following questions as best you can. You have access to the following tools:\n",
      "\n",
      "GetPrime: A tool that returns the `n`th prime number\n",
      "Calculator: Useful for when you need to compute mathematical expressions\n",
      "\n",
      "Use the following format:\n",
      "\n",
      "Question: the input question you must answer\n",
      "Thought: you should always think about what to do\n",
      "Action: the action to take, should be one of [GetPrime, Calculator]\n",
      "Action Input: the input to the action\n",
      "Observation: the result of the action\n",
      "... (this Thought/Action/Action Input/Observation can repeat N times)\n",
      "Thought: I now know the final answer\n",
      "Final Answer: the final answer to the original input question\n",
      "\n",
      "Begin!\n",
      "\n",
      "Question: {input}\n",
      "Thought:{agent_scratchpad}\n"
     ]
    }
   ],
   "source": [
    "# Con esto se imprime el prompt que se usara en el agente.\n",
    "print(agent.agent.llm_chain.prompt.template)"
   ]
  },
  {
   "cell_type": "code",
   "execution_count": 6,
   "metadata": {},
   "outputs": [
    {
     "name": "stdout",
     "output_type": "stream",
     "text": [
      "\n",
      "\n",
      "\u001b[1m> Entering new AgentExecutor chain...\u001b[0m\n",
      "\u001b[32;1m\u001b[1;3mI need to find the 998th, 999th, and 1000th prime numbers and then multiply them together.\n",
      "Action: GetPrime\n",
      "Action Input: 998\u001b[0m\n",
      "Observation: \u001b[36;1m\u001b[1;3m7901\u001b[0m\n",
      "Thought:Checking whether 7901 is prime...\n",
      "\u001b[32;1m\u001b[1;3mI have the first prime number.\n",
      "Action: GetPrime\n",
      "Action Input: 999\u001b[0m\n",
      "Observation: \u001b[36;1m\u001b[1;3m7907\u001b[0m\n",
      "Thought:Checking whether 7907 is prime...\n",
      "\u001b[32;1m\u001b[1;3mI have the second prime number.\n",
      "Action: GetPrime\n",
      "Action Input: 1000\u001b[0m\n",
      "Observation: \u001b[36;1m\u001b[1;3m7919\u001b[0m\n",
      "Thought:Checking whether 7919 is prime...\n",
      "\u001b[32;1m\u001b[1;3mI have the third prime number.\n",
      "Final Answer: The product of the 998th, 999th, and 1000th prime numbers is 7901 * 7907 * 7919 = 495,219,974,633.\u001b[0m\n",
      "\n",
      "\u001b[1m> Finished chain.\u001b[0m\n"
     ]
    }
   ],
   "source": [
    "question = \"Whats is the product of the 998th, 999th and 1000th prime numbers?\"\n",
    "\n",
    "for step in agent.iter(question):\n",
    "    if output := step.get(\"intermediate_step\"):\n",
    "        action, value = output[0]\n",
    "        if action.tool == \"GetPrime\":\n",
    "            print(f\"Checking whether {value} is prime...\")\n",
    "            assert is_prime(int(value))\n",
    "        # Ask user if they want to continue\n",
    "        _continue = input(\"Should the agent continue (Y/n)?:\\n\")\n",
    "        if _continue != \"Y\":\n",
    "            break"
   ]
  },
  {
   "cell_type": "code",
   "execution_count": null,
   "metadata": {},
   "outputs": [],
   "source": []
  }
 ],
 "metadata": {
  "kernelspec": {
   "display_name": "Holochat",
   "language": "python",
   "name": "python3"
  },
  "language_info": {
   "codemirror_mode": {
    "name": "ipython",
    "version": 3
   },
   "file_extension": ".py",
   "mimetype": "text/x-python",
   "name": "python",
   "nbconvert_exporter": "python",
   "pygments_lexer": "ipython3",
   "version": "3.10.13"
  },
  "orig_nbformat": 4
 },
 "nbformat": 4,
 "nbformat_minor": 2
}
