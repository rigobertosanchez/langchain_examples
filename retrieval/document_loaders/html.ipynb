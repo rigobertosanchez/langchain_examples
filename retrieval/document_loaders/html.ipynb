{
 "cells": [
  {
   "cell_type": "markdown",
   "metadata": {},
   "source": [
    "# HTML\n",
    "--- \n",
    "El lenguaje de marcado de hipertexto o HTML es el lenguaje de marcado estándar para documentos diseñados para mostrarse en un navegador web.\n",
    "\n",
    "Esto cubre cómo cargar documentos HTML en un formato de documento que podamos usar posteriormente."
   ]
  },
  {
   "cell_type": "code",
   "execution_count": 2,
   "metadata": {},
   "outputs": [
    {
     "data": {
      "text/plain": [
       "[Document(page_content='Título de la WEB\\n\\nIR SECCIÓN 2\\n\\nIR SECCIÓN 3\\n\\nCONTENIDO PRINCIPAL\\n\\nEste es el contenido principal de mi web.\\n\\nTestimonios\\n\\nMe gusta mucho esta página.\\n\\nRedes sociales\\n\\nFacebook\\n\\nTiwtter', metadata={'source': '../../example_data/fake-content.html'})]"
      ]
     },
     "execution_count": 2,
     "metadata": {},
     "output_type": "execute_result"
    }
   ],
   "source": [
    "from langchain.document_loaders import UnstructuredHTMLLoader\n",
    "\n",
    "loader = UnstructuredHTMLLoader(\"../../example_data/fake-content.html\")\n",
    "\n",
    "data = loader.load()\n",
    "\n",
    "data"
   ]
  },
  {
   "cell_type": "markdown",
   "metadata": {},
   "source": [
    "## Loading HTML with BeautifulSoup4\n",
    "---\n",
    "\n",
    "También podemos usar `BeautifulSoup4` para cargar documentos HTML usando `BSHTMLLoader`. Esto extraerá el texto del HTML en page_content y el título de la página como título en metadatos."
   ]
  },
  {
   "cell_type": "code",
   "execution_count": 5,
   "metadata": {},
   "outputs": [
    {
     "data": {
      "text/plain": [
       "[Document(page_content='\\n\\nTítulo de la Página\\n\\n\\n\\n\\n\\n\\n\\nTítulo de la Página\\n\\n\\nIR SECCIÓN 2\\nIR SECCIÓN 3\\n\\n\\n\\nCONTENIDO PRINCIPAL\\nEste es el contenido principal de mi web.\\n\\n\\n\\nTestimonios\\nMe gusta mucho esta página.\\n\\n\\nRedes sociales\\nFacebook\\nTiwtter\\n\\n\\n', metadata={'source': '../../example_data/fake-content.html', 'title': 'Título de la Página'})]"
      ]
     },
     "execution_count": 5,
     "metadata": {},
     "output_type": "execute_result"
    }
   ],
   "source": [
    "from langchain.document_loaders import BSHTMLLoader\n",
    "\n",
    "loader = BSHTMLLoader(\"../../example_data/fake-content.html\")\n",
    "\n",
    "data = loader.load()\n",
    "\n",
    "data"
   ]
  },
  {
   "cell_type": "code",
   "execution_count": null,
   "metadata": {},
   "outputs": [],
   "source": []
  }
 ],
 "metadata": {
  "kernelspec": {
   "display_name": "Holochat",
   "language": "python",
   "name": "python3"
  },
  "language_info": {
   "codemirror_mode": {
    "name": "ipython",
    "version": 3
   },
   "file_extension": ".py",
   "mimetype": "text/x-python",
   "name": "python",
   "nbconvert_exporter": "python",
   "pygments_lexer": "ipython3",
   "version": "3.10.13"
  },
  "orig_nbformat": 4
 },
 "nbformat": 4,
 "nbformat_minor": 2
}
