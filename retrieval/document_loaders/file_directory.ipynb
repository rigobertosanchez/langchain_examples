{
 "cells": [
  {
   "cell_type": "markdown",
   "metadata": {},
   "source": [
    "# File Directory\n",
    "---\n",
    "\n",
    "En este cuaderno mostraremos como cargar todos los documentos en un directorio.\n",
    "\n",
    "**Nota:** En el fondo, de forma predeterminada, esto utiliza `UnstructuredLoader`."
   ]
  },
  {
   "cell_type": "code",
   "execution_count": 2,
   "metadata": {},
   "outputs": [],
   "source": [
    "from langchain.document_loaders import DirectoryLoader"
   ]
  },
  {
   "cell_type": "markdown",
   "metadata": {},
   "source": [
    "Podemos usar el parámetro `glob` para controlar qué archivos cargar. Tener en cuenta que aquí no carga el archivo .rst ni los archivos .html."
   ]
  },
  {
   "cell_type": "code",
   "execution_count": 4,
   "metadata": {},
   "outputs": [
    {
     "data": {
      "text/plain": [
       "1"
      ]
     },
     "execution_count": 4,
     "metadata": {},
     "output_type": "execute_result"
    }
   ],
   "source": [
    "loader = DirectoryLoader(\n",
    "    \"../..\",\n",
    "    glob=\"**/*.md\",\n",
    ")\n",
    "\n",
    "docs = loader.load()\n",
    "\n",
    "len(docs)"
   ]
  },
  {
   "cell_type": "markdown",
   "metadata": {},
   "source": [
    "## Show a progress bar\n",
    "---\n",
    "\n",
    "De forma predeterminada, no se mostrará una barra de progreso. Para mostrar una barra de progreso, instale la biblioteca tqdm (por ejemplo, `pip install tqdm`) y establezca el parámetro `show_progress` en True."
   ]
  },
  {
   "cell_type": "code",
   "execution_count": 5,
   "metadata": {},
   "outputs": [
    {
     "name": "stderr",
     "output_type": "stream",
     "text": [
      "0it [00:00, ?it/s]\n"
     ]
    }
   ],
   "source": [
    "loader = DirectoryLoader('../', glob=\"**/*.md\", show_progress=True)\n",
    "docs = loader.load()"
   ]
  },
  {
   "cell_type": "markdown",
   "metadata": {},
   "source": [
    "## Use multithreading\n",
    "---\n",
    "Por defecto, la carga ocurre en un hilo. Para utilizar varios subprocesos, podemos establecer el indicador use_multithreading en True.\n"
   ]
  },
  {
   "cell_type": "code",
   "execution_count": 8,
   "metadata": {},
   "outputs": [],
   "source": [
    "loader = DirectoryLoader(\"../../\", glob=\"**/.*md\", use_multithreading=True)\n",
    "\n",
    "docs = loader.load()"
   ]
  },
  {
   "cell_type": "markdown",
   "metadata": {},
   "source": [
    "## Change loader class\n",
    "---\n",
    "De forma predeterminada, el loader utiliza la clase UnstructuredLoader. Sin embargo, se puede cambiar el tipo de cargador con basetante facilidad, usando el parametro loader_cls se puede establecer el tipo.\n",
    "\n",
    "En el siguiente ejemplo cambiaremos la clase `UnstructuredLoader` y usaremos la clase `TextLoader`."
   ]
  },
  {
   "cell_type": "code",
   "execution_count": 9,
   "metadata": {},
   "outputs": [
    {
     "data": {
      "text/plain": [
       "1"
      ]
     },
     "execution_count": 9,
     "metadata": {},
     "output_type": "execute_result"
    }
   ],
   "source": [
    "from langchain.document_loaders import TextLoader\n",
    "\n",
    "loader = DirectoryLoader(\"../../\", glob=\"**/*.md\", loader_cls=TextLoader)\n",
    "\n",
    "docs = loader.load()\n",
    "\n",
    "len(docs)"
   ]
  },
  {
   "cell_type": "markdown",
   "metadata": {},
   "source": [
    "Si es necesario cargar archivos de código fuente de Python, utilice `PythonLoader`."
   ]
  },
  {
   "cell_type": "code",
   "execution_count": 12,
   "metadata": {},
   "outputs": [
    {
     "data": {
      "text/plain": [
       "1"
      ]
     },
     "execution_count": 12,
     "metadata": {},
     "output_type": "execute_result"
    }
   ],
   "source": [
    "from langchain.document_loaders import PythonLoader\n",
    "\n",
    "loader = DirectoryLoader(\"../../example_data/\", glob=\"**/*.py\", loader_cls=PythonLoader)\n",
    "\n",
    "docs = loader.load()\n",
    "\n",
    "len(docs)"
   ]
  },
  {
   "cell_type": "markdown",
   "metadata": {},
   "source": []
  }
 ],
 "metadata": {
  "kernelspec": {
   "display_name": "Holochat",
   "language": "python",
   "name": "python3"
  },
  "language_info": {
   "codemirror_mode": {
    "name": "ipython",
    "version": 3
   },
   "file_extension": ".py",
   "mimetype": "text/x-python",
   "name": "python",
   "nbconvert_exporter": "python",
   "pygments_lexer": "ipython3",
   "version": "3.10.13"
  },
  "orig_nbformat": 4
 },
 "nbformat": 4,
 "nbformat_minor": 2
}
