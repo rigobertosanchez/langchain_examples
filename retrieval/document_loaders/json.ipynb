{
 "cells": [
  {
   "cell_type": "markdown",
   "metadata": {},
   "source": [
    "# JSON\n",
    "---\n",
    "\n",
    "JSON (JavaScript Object Notation) es un formato de archivo estándar abierto y un formato de intercambio de datos que utiliza texto legible por humanos para almacenar y transmitir objetos de datos que consisten en pares y matrices de atributo-valor (u otros valores serializables).\n",
    "\n",
    "JSON Lines es un formato de archivo donde cada línea es un valor JSON válido.\n",
    "\n",
    "JSONLoader utiliza un esquema jq específico para analizar los archivos JSON. Utiliza el paquete jq python. Consulte este manual para obtener documentación detallada de la sintaxis de jq."
   ]
  },
  {
   "cell_type": "code",
   "execution_count": 2,
   "metadata": {},
   "outputs": [],
   "source": [
    "import json\n",
    "from langchain.document_loaders import JSONLoader\n",
    "from pathlib import Path\n",
    "from pprint import pprint"
   ]
  },
  {
   "cell_type": "code",
   "execution_count": 3,
   "metadata": {},
   "outputs": [],
   "source": [
    "file_path = \"../../example_data/fake-chat.json\"\n",
    "data = json.loads(Path(file_path).read_text())"
   ]
  },
  {
   "cell_type": "code",
   "execution_count": 4,
   "metadata": {},
   "outputs": [
    {
     "name": "stdout",
     "output_type": "stream",
     "text": [
      "{'image': {'creation_timestamp': 1675549016, 'uri': 'image_of_the_chat.jpg'},\n",
      " 'is_still_participant': True,\n",
      " 'joinable_mode': {'link': '', 'mode': 1},\n",
      " 'magic_words': [],\n",
      " 'messages': [{'content': 'Bye!',\n",
      "               'sender_name': 'User 2',\n",
      "               'timestamp_ms': 1675597571851},\n",
      "              {'content': 'Oh no worries! Bye',\n",
      "               'sender_name': 'User 1',\n",
      "               'timestamp_ms': 1675597435669},\n",
      "              {'content': 'No Im sorry it was my mistake, the blue one is not '\n",
      "                          'for sale',\n",
      "               'sender_name': 'User 2',\n",
      "               'timestamp_ms': 1675596277579},\n",
      "              {'content': 'I thought you were selling the blue one!',\n",
      "               'sender_name': 'User 1',\n",
      "               'timestamp_ms': 1675595140251},\n",
      "              {'content': 'Im not interested in this bag. Im interested in the '\n",
      "                          'blue one!',\n",
      "               'sender_name': 'User 1',\n",
      "               'timestamp_ms': 1675595109305},\n",
      "              {'content': 'Here is $129',\n",
      "               'sender_name': 'User 2',\n",
      "               'timestamp_ms': 1675595068468},\n",
      "              {'photos': [{'creation_timestamp': 1675595059,\n",
      "                           'uri': 'url_of_some_picture.jpg'}],\n",
      "               'sender_name': 'User 2',\n",
      "               'timestamp_ms': 1675595060730},\n",
      "              {'content': 'Online is at least $100',\n",
      "               'sender_name': 'User 2',\n",
      "               'timestamp_ms': 1675595045152},\n",
      "              {'content': 'How much do you want?',\n",
      "               'sender_name': 'User 1',\n",
      "               'timestamp_ms': 1675594799696},\n",
      "              {'content': 'Goodmorning! $50 is too low.',\n",
      "               'sender_name': 'User 2',\n",
      "               'timestamp_ms': 1675577876645},\n",
      "              {'content': 'Hi! Im interested in your bag. Im offering $50. Let '\n",
      "                          'me know if you are interested. Thanks!',\n",
      "               'sender_name': 'User 1',\n",
      "               'timestamp_ms': 1675549022673}],\n",
      " 'participants': [{'name': 'User 1'}, {'name': 'User 2'}],\n",
      " 'thread_path': 'inbox/User 1 and User 2 chat',\n",
      " 'title': 'User 1 and User 2 chat'}\n"
     ]
    }
   ],
   "source": [
    "pprint(data)"
   ]
  },
  {
   "cell_type": "markdown",
   "metadata": {},
   "source": [
    "# Using JSONLoader\n",
    "---\n",
    "\n",
    "Supongamos que estamos interesados ​​en extraer los valores del campo de contenido dentro de la clave de mensajes de los datos `JSON`. Esto se puede hacer fácilmente a través de `JSONLoader` como se muestra a continuación.\n",
    "\n",
    "### JSON file"
   ]
  },
  {
   "cell_type": "code",
   "execution_count": 7,
   "metadata": {},
   "outputs": [],
   "source": [
    "# #!pip install jq"
   ]
  },
  {
   "cell_type": "code",
   "execution_count": 12,
   "metadata": {},
   "outputs": [
    {
     "name": "stdout",
     "output_type": "stream",
     "text": [
      "[Document(page_content='Bye!', metadata={'source': '/Users/rigobertosanchez/Learning/LangChain/example_data/fake-chat.json', 'seq_num': 1}),\n",
      " Document(page_content='Oh no worries! Bye', metadata={'source': '/Users/rigobertosanchez/Learning/LangChain/example_data/fake-chat.json', 'seq_num': 2}),\n",
      " Document(page_content='No Im sorry it was my mistake, the blue one is not for sale', metadata={'source': '/Users/rigobertosanchez/Learning/LangChain/example_data/fake-chat.json', 'seq_num': 3}),\n",
      " Document(page_content='I thought you were selling the blue one!', metadata={'source': '/Users/rigobertosanchez/Learning/LangChain/example_data/fake-chat.json', 'seq_num': 4}),\n",
      " Document(page_content='Im not interested in this bag. Im interested in the blue one!', metadata={'source': '/Users/rigobertosanchez/Learning/LangChain/example_data/fake-chat.json', 'seq_num': 5}),\n",
      " Document(page_content='Here is $129', metadata={'source': '/Users/rigobertosanchez/Learning/LangChain/example_data/fake-chat.json', 'seq_num': 6}),\n",
      " Document(page_content='', metadata={'source': '/Users/rigobertosanchez/Learning/LangChain/example_data/fake-chat.json', 'seq_num': 7}),\n",
      " Document(page_content='Online is at least $100', metadata={'source': '/Users/rigobertosanchez/Learning/LangChain/example_data/fake-chat.json', 'seq_num': 8}),\n",
      " Document(page_content='How much do you want?', metadata={'source': '/Users/rigobertosanchez/Learning/LangChain/example_data/fake-chat.json', 'seq_num': 9}),\n",
      " Document(page_content='Goodmorning! $50 is too low.', metadata={'source': '/Users/rigobertosanchez/Learning/LangChain/example_data/fake-chat.json', 'seq_num': 10}),\n",
      " Document(page_content='Hi! Im interested in your bag. Im offering $50. Let me know if you are interested. Thanks!', metadata={'source': '/Users/rigobertosanchez/Learning/LangChain/example_data/fake-chat.json', 'seq_num': 11})]\n"
     ]
    }
   ],
   "source": [
    "loader = JSONLoader(\n",
    "    file_path=\"../../example_data/fake-chat.json\",\n",
    "    jq_schema=\".messages[].content\",\n",
    ")\n",
    "\n",
    "data = loader.load()\n",
    "\n",
    "pprint(data)"
   ]
  },
  {
   "cell_type": "code",
   "execution_count": null,
   "metadata": {},
   "outputs": [],
   "source": []
  }
 ],
 "metadata": {
  "kernelspec": {
   "display_name": "Holochat",
   "language": "python",
   "name": "python3"
  },
  "language_info": {
   "codemirror_mode": {
    "name": "ipython",
    "version": 3
   },
   "file_extension": ".py",
   "mimetype": "text/x-python",
   "name": "python",
   "nbconvert_exporter": "python",
   "pygments_lexer": "ipython3",
   "version": "3.10.13"
  },
  "orig_nbformat": 4
 },
 "nbformat": 4,
 "nbformat_minor": 2
}
