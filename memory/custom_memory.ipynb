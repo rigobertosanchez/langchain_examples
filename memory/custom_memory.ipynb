{
 "cells": [
  {
   "cell_type": "markdown",
   "metadata": {},
   "source": [
    "# Custom Memory\n",
    "---\n",
    "\n",
    "Aunque existen algunos tipos de memoria predefinidos en LangChain, es muy posible que desee agregar su propio tipo de memoria que sea óptimo para su aplicación. Este `notebook` explica cómo hacerlo.\n",
    "\n",
    "Para este `notebook`, agregaremos un tipo de memoria personalizado a ConversationChain. Para agregar una clase de memoria personalizada, necesitamos importar la clase de memoria base y subclasificarla."
   ]
  },
  {
   "cell_type": "code",
   "execution_count": 2,
   "metadata": {},
   "outputs": [],
   "source": [
    "from dotenv import load_dotenv, find_dotenv\n",
    "from langchain.llms import OpenAI\n",
    "from langchain.chains import ConversationChain\n",
    "from langchain.schema import BaseMemory\n",
    "from pydantic import BaseModel\n",
    "from typing import List, Dict, Any"
   ]
  },
  {
   "cell_type": "markdown",
   "metadata": {},
   "source": [
    "En este ejemplo, escribiremos una clase de memoria personalizada que use `spacy` para extraer entidades y guardar información sobre ellas en una tabla hash simple. \n",
    "\n",
    "Luego, durante la conversación, miraremos el texto ingresado, extraeremos las entidades y pondremos la información sobre ellas en el contexto.\n",
    "\n",
    "**Nota:** Tenga en cuenta que esta implementación es bastante simple y frágil y probablemente no sea útil en un entorno de producción. Su propósito es mostrar que puede agregar implementaciones de memoria personalizadas."
   ]
  },
  {
   "cell_type": "code",
   "execution_count": null,
   "metadata": {},
   "outputs": [],
   "source": [
    "# Si no se tiene spacy en el entorno, se recomienda instalarlo\n",
    "# !pip install spacy\n",
    "# !python -m spacy download en_core_web_lg"
   ]
  }
 ],
 "metadata": {
  "kernelspec": {
   "display_name": "Holochat",
   "language": "python",
   "name": "python3"
  },
  "language_info": {
   "codemirror_mode": {
    "name": "ipython",
    "version": 3
   },
   "file_extension": ".py",
   "mimetype": "text/x-python",
   "name": "python",
   "nbconvert_exporter": "python",
   "pygments_lexer": "ipython3",
   "version": "3.10.13"
  },
  "orig_nbformat": 4
 },
 "nbformat": 4,
 "nbformat_minor": 2
}
