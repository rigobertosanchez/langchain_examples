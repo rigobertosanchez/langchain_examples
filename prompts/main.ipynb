{
 "cells": [
  {
   "cell_type": "markdown",
   "metadata": {},
   "source": [
    "# Prompts\n",
    "---\n",
    "\n",
    "Un prompt para un modelo de lenguaje es un conjunto de instrucciones o entradas que spon proporcionadas por el usuario para guiar al modelo para obtener una respuesta, ayudando a entender el contexto y generar una respuesta relevante y coherente.\n",
    "\n",
    "LangChain proporciona varias clases y funciones para ayudar a contruir y trabajar con \"prompts\" "
   ]
  },
  {
   "cell_type": "markdown",
   "metadata": {},
   "source": []
  }
 ],
 "metadata": {
  "language_info": {
   "name": "python"
  },
  "orig_nbformat": 4
 },
 "nbformat": 4,
 "nbformat_minor": 2
}
